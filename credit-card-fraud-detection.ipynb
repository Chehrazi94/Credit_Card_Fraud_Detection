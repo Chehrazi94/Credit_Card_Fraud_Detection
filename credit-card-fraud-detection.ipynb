{
 "cells": [
  {
   "cell_type": "markdown",
   "id": "b19c96fe",
   "metadata": {
    "papermill": {
     "duration": 0.006381,
     "end_time": "2023-10-24T18:09:59.169843",
     "exception": false,
     "start_time": "2023-10-24T18:09:59.163462",
     "status": "completed"
    },
    "tags": []
   },
   "source": [
    "# Credit Card Fraud Detection\n",
    "\n",
    "### <font color='blue'>*Author: Ali Chehrazi*</font>\n",
    "\n",
    "##  Description\n",
    "\n",
    "In this project, different classification models were employed to detect fraudulent transactions. The data employed in this project can be found at the following link:\n",
    "\n",
    "https://www.kaggle.com/datasets/mlg-ulb/creditcardfraud\n",
    "\n",
    "<img src=\"https://upload.wikimedia.org/wikipedia/commons/4/4f/Credit-cards.jpg\" width=400 />\n",
    "\n",
    "### About Dataset\n",
    "\n",
    "This dataset logs credit card transactions by European cardholders in September 2013 over two days. It reveals 492 fraud cases out of 284,807 transactions, highlighting a significant imbalance where frauds make up only 0.172% of total transactions. The dataset mainly contains numerical variables resulting from PCA transformation, and other features like 'Time', 'Amount', and the response variable 'Class' denoting fraud (1) or non-fraud (0). However, due to confidentiality, original features and background data are undisclosed\n"
   ]
  },
  {
   "cell_type": "markdown",
   "id": "ff33b6b7",
   "metadata": {
    "papermill": {
     "duration": 0.005439,
     "end_time": "2023-10-24T18:09:59.182993",
     "exception": false,
     "start_time": "2023-10-24T18:09:59.177554",
     "status": "completed"
    },
    "tags": []
   },
   "source": [
    "## Importing Libraries\n",
    "First, let's import the required libraries."
   ]
  },
  {
   "cell_type": "code",
   "execution_count": 1,
   "id": "758b6a45",
   "metadata": {
    "execution": {
     "iopub.execute_input": "2023-10-24T18:09:59.196088Z",
     "iopub.status.busy": "2023-10-24T18:09:59.195557Z",
     "iopub.status.idle": "2023-10-24T18:10:02.008725Z",
     "shell.execute_reply": "2023-10-24T18:10:02.007306Z"
    },
    "papermill": {
     "duration": 2.823036,
     "end_time": "2023-10-24T18:10:02.011651",
     "exception": false,
     "start_time": "2023-10-24T18:09:59.188615",
     "status": "completed"
    },
    "tags": []
   },
   "outputs": [
    {
     "name": "stdout",
     "output_type": "stream",
     "text": [
      "/kaggle/input/creditcardfraud/creditcard.csv\n"
     ]
    }
   ],
   "source": [
    "import os\n",
    "import numpy as np # linear algebra\n",
    "import pandas as pd # data processing\n",
    "import matplotlib.pyplot as plt # Matplotlib is a plotting library for python\n",
    "import seaborn as sns #Seaborn is a Python data visualization library based on matplotlib.\n",
    "from sklearn.model_selection import train_test_split # Allows us to split our data into training and testing data\n",
    "from sklearn.model_selection import GridSearchCV # Allows us to test parameters of classification algorithms and find the best one\n",
    "from sklearn.linear_model import LogisticRegression # Logistic Regression classification algorithm\n",
    "from sklearn.neighbors import KNeighborsClassifier # K Nearest Neighbors classification algorithm\n",
    "from sklearn.ensemble import RandomForestClassifier # Random Forest classification algorithm\n",
    "     \n",
    "\n",
    "\n",
    "for dirname, _, filenames in os.walk('/kaggle/input'):\n",
    "    for filename in filenames:\n",
    "        print(os.path.join(dirname, filename))"
   ]
  },
  {
   "cell_type": "markdown",
   "id": "ae8622f5",
   "metadata": {
    "papermill": {
     "duration": 0.005392,
     "end_time": "2023-10-24T18:10:02.023018",
     "exception": false,
     "start_time": "2023-10-24T18:10:02.017626",
     "status": "completed"
    },
    "tags": []
   },
   "source": [
    "Let's read the database and save it into a data frame."
   ]
  },
  {
   "cell_type": "code",
   "execution_count": 2,
   "id": "ea29b644",
   "metadata": {
    "execution": {
     "iopub.execute_input": "2023-10-24T18:10:02.036244Z",
     "iopub.status.busy": "2023-10-24T18:10:02.035647Z",
     "iopub.status.idle": "2023-10-24T18:10:06.718721Z",
     "shell.execute_reply": "2023-10-24T18:10:06.717431Z"
    },
    "papermill": {
     "duration": 4.693094,
     "end_time": "2023-10-24T18:10:06.721731",
     "exception": false,
     "start_time": "2023-10-24T18:10:02.028637",
     "status": "completed"
    },
    "tags": []
   },
   "outputs": [
    {
     "data": {
      "text/html": [
       "<div>\n",
       "<style scoped>\n",
       "    .dataframe tbody tr th:only-of-type {\n",
       "        vertical-align: middle;\n",
       "    }\n",
       "\n",
       "    .dataframe tbody tr th {\n",
       "        vertical-align: top;\n",
       "    }\n",
       "\n",
       "    .dataframe thead th {\n",
       "        text-align: right;\n",
       "    }\n",
       "</style>\n",
       "<table border=\"1\" class=\"dataframe\">\n",
       "  <thead>\n",
       "    <tr style=\"text-align: right;\">\n",
       "      <th></th>\n",
       "      <th>Time</th>\n",
       "      <th>V1</th>\n",
       "      <th>V2</th>\n",
       "      <th>V3</th>\n",
       "      <th>V4</th>\n",
       "      <th>V5</th>\n",
       "      <th>V6</th>\n",
       "      <th>V7</th>\n",
       "      <th>V8</th>\n",
       "      <th>V9</th>\n",
       "      <th>...</th>\n",
       "      <th>V21</th>\n",
       "      <th>V22</th>\n",
       "      <th>V23</th>\n",
       "      <th>V24</th>\n",
       "      <th>V25</th>\n",
       "      <th>V26</th>\n",
       "      <th>V27</th>\n",
       "      <th>V28</th>\n",
       "      <th>Amount</th>\n",
       "      <th>Class</th>\n",
       "    </tr>\n",
       "  </thead>\n",
       "  <tbody>\n",
       "    <tr>\n",
       "      <th>0</th>\n",
       "      <td>0.0</td>\n",
       "      <td>-1.359807</td>\n",
       "      <td>-0.072781</td>\n",
       "      <td>2.536347</td>\n",
       "      <td>1.378155</td>\n",
       "      <td>-0.338321</td>\n",
       "      <td>0.462388</td>\n",
       "      <td>0.239599</td>\n",
       "      <td>0.098698</td>\n",
       "      <td>0.363787</td>\n",
       "      <td>...</td>\n",
       "      <td>-0.018307</td>\n",
       "      <td>0.277838</td>\n",
       "      <td>-0.110474</td>\n",
       "      <td>0.066928</td>\n",
       "      <td>0.128539</td>\n",
       "      <td>-0.189115</td>\n",
       "      <td>0.133558</td>\n",
       "      <td>-0.021053</td>\n",
       "      <td>149.62</td>\n",
       "      <td>0</td>\n",
       "    </tr>\n",
       "    <tr>\n",
       "      <th>1</th>\n",
       "      <td>0.0</td>\n",
       "      <td>1.191857</td>\n",
       "      <td>0.266151</td>\n",
       "      <td>0.166480</td>\n",
       "      <td>0.448154</td>\n",
       "      <td>0.060018</td>\n",
       "      <td>-0.082361</td>\n",
       "      <td>-0.078803</td>\n",
       "      <td>0.085102</td>\n",
       "      <td>-0.255425</td>\n",
       "      <td>...</td>\n",
       "      <td>-0.225775</td>\n",
       "      <td>-0.638672</td>\n",
       "      <td>0.101288</td>\n",
       "      <td>-0.339846</td>\n",
       "      <td>0.167170</td>\n",
       "      <td>0.125895</td>\n",
       "      <td>-0.008983</td>\n",
       "      <td>0.014724</td>\n",
       "      <td>2.69</td>\n",
       "      <td>0</td>\n",
       "    </tr>\n",
       "    <tr>\n",
       "      <th>2</th>\n",
       "      <td>1.0</td>\n",
       "      <td>-1.358354</td>\n",
       "      <td>-1.340163</td>\n",
       "      <td>1.773209</td>\n",
       "      <td>0.379780</td>\n",
       "      <td>-0.503198</td>\n",
       "      <td>1.800499</td>\n",
       "      <td>0.791461</td>\n",
       "      <td>0.247676</td>\n",
       "      <td>-1.514654</td>\n",
       "      <td>...</td>\n",
       "      <td>0.247998</td>\n",
       "      <td>0.771679</td>\n",
       "      <td>0.909412</td>\n",
       "      <td>-0.689281</td>\n",
       "      <td>-0.327642</td>\n",
       "      <td>-0.139097</td>\n",
       "      <td>-0.055353</td>\n",
       "      <td>-0.059752</td>\n",
       "      <td>378.66</td>\n",
       "      <td>0</td>\n",
       "    </tr>\n",
       "    <tr>\n",
       "      <th>3</th>\n",
       "      <td>1.0</td>\n",
       "      <td>-0.966272</td>\n",
       "      <td>-0.185226</td>\n",
       "      <td>1.792993</td>\n",
       "      <td>-0.863291</td>\n",
       "      <td>-0.010309</td>\n",
       "      <td>1.247203</td>\n",
       "      <td>0.237609</td>\n",
       "      <td>0.377436</td>\n",
       "      <td>-1.387024</td>\n",
       "      <td>...</td>\n",
       "      <td>-0.108300</td>\n",
       "      <td>0.005274</td>\n",
       "      <td>-0.190321</td>\n",
       "      <td>-1.175575</td>\n",
       "      <td>0.647376</td>\n",
       "      <td>-0.221929</td>\n",
       "      <td>0.062723</td>\n",
       "      <td>0.061458</td>\n",
       "      <td>123.50</td>\n",
       "      <td>0</td>\n",
       "    </tr>\n",
       "    <tr>\n",
       "      <th>4</th>\n",
       "      <td>2.0</td>\n",
       "      <td>-1.158233</td>\n",
       "      <td>0.877737</td>\n",
       "      <td>1.548718</td>\n",
       "      <td>0.403034</td>\n",
       "      <td>-0.407193</td>\n",
       "      <td>0.095921</td>\n",
       "      <td>0.592941</td>\n",
       "      <td>-0.270533</td>\n",
       "      <td>0.817739</td>\n",
       "      <td>...</td>\n",
       "      <td>-0.009431</td>\n",
       "      <td>0.798278</td>\n",
       "      <td>-0.137458</td>\n",
       "      <td>0.141267</td>\n",
       "      <td>-0.206010</td>\n",
       "      <td>0.502292</td>\n",
       "      <td>0.219422</td>\n",
       "      <td>0.215153</td>\n",
       "      <td>69.99</td>\n",
       "      <td>0</td>\n",
       "    </tr>\n",
       "    <tr>\n",
       "      <th>...</th>\n",
       "      <td>...</td>\n",
       "      <td>...</td>\n",
       "      <td>...</td>\n",
       "      <td>...</td>\n",
       "      <td>...</td>\n",
       "      <td>...</td>\n",
       "      <td>...</td>\n",
       "      <td>...</td>\n",
       "      <td>...</td>\n",
       "      <td>...</td>\n",
       "      <td>...</td>\n",
       "      <td>...</td>\n",
       "      <td>...</td>\n",
       "      <td>...</td>\n",
       "      <td>...</td>\n",
       "      <td>...</td>\n",
       "      <td>...</td>\n",
       "      <td>...</td>\n",
       "      <td>...</td>\n",
       "      <td>...</td>\n",
       "      <td>...</td>\n",
       "    </tr>\n",
       "    <tr>\n",
       "      <th>284802</th>\n",
       "      <td>172786.0</td>\n",
       "      <td>-11.881118</td>\n",
       "      <td>10.071785</td>\n",
       "      <td>-9.834783</td>\n",
       "      <td>-2.066656</td>\n",
       "      <td>-5.364473</td>\n",
       "      <td>-2.606837</td>\n",
       "      <td>-4.918215</td>\n",
       "      <td>7.305334</td>\n",
       "      <td>1.914428</td>\n",
       "      <td>...</td>\n",
       "      <td>0.213454</td>\n",
       "      <td>0.111864</td>\n",
       "      <td>1.014480</td>\n",
       "      <td>-0.509348</td>\n",
       "      <td>1.436807</td>\n",
       "      <td>0.250034</td>\n",
       "      <td>0.943651</td>\n",
       "      <td>0.823731</td>\n",
       "      <td>0.77</td>\n",
       "      <td>0</td>\n",
       "    </tr>\n",
       "    <tr>\n",
       "      <th>284803</th>\n",
       "      <td>172787.0</td>\n",
       "      <td>-0.732789</td>\n",
       "      <td>-0.055080</td>\n",
       "      <td>2.035030</td>\n",
       "      <td>-0.738589</td>\n",
       "      <td>0.868229</td>\n",
       "      <td>1.058415</td>\n",
       "      <td>0.024330</td>\n",
       "      <td>0.294869</td>\n",
       "      <td>0.584800</td>\n",
       "      <td>...</td>\n",
       "      <td>0.214205</td>\n",
       "      <td>0.924384</td>\n",
       "      <td>0.012463</td>\n",
       "      <td>-1.016226</td>\n",
       "      <td>-0.606624</td>\n",
       "      <td>-0.395255</td>\n",
       "      <td>0.068472</td>\n",
       "      <td>-0.053527</td>\n",
       "      <td>24.79</td>\n",
       "      <td>0</td>\n",
       "    </tr>\n",
       "    <tr>\n",
       "      <th>284804</th>\n",
       "      <td>172788.0</td>\n",
       "      <td>1.919565</td>\n",
       "      <td>-0.301254</td>\n",
       "      <td>-3.249640</td>\n",
       "      <td>-0.557828</td>\n",
       "      <td>2.630515</td>\n",
       "      <td>3.031260</td>\n",
       "      <td>-0.296827</td>\n",
       "      <td>0.708417</td>\n",
       "      <td>0.432454</td>\n",
       "      <td>...</td>\n",
       "      <td>0.232045</td>\n",
       "      <td>0.578229</td>\n",
       "      <td>-0.037501</td>\n",
       "      <td>0.640134</td>\n",
       "      <td>0.265745</td>\n",
       "      <td>-0.087371</td>\n",
       "      <td>0.004455</td>\n",
       "      <td>-0.026561</td>\n",
       "      <td>67.88</td>\n",
       "      <td>0</td>\n",
       "    </tr>\n",
       "    <tr>\n",
       "      <th>284805</th>\n",
       "      <td>172788.0</td>\n",
       "      <td>-0.240440</td>\n",
       "      <td>0.530483</td>\n",
       "      <td>0.702510</td>\n",
       "      <td>0.689799</td>\n",
       "      <td>-0.377961</td>\n",
       "      <td>0.623708</td>\n",
       "      <td>-0.686180</td>\n",
       "      <td>0.679145</td>\n",
       "      <td>0.392087</td>\n",
       "      <td>...</td>\n",
       "      <td>0.265245</td>\n",
       "      <td>0.800049</td>\n",
       "      <td>-0.163298</td>\n",
       "      <td>0.123205</td>\n",
       "      <td>-0.569159</td>\n",
       "      <td>0.546668</td>\n",
       "      <td>0.108821</td>\n",
       "      <td>0.104533</td>\n",
       "      <td>10.00</td>\n",
       "      <td>0</td>\n",
       "    </tr>\n",
       "    <tr>\n",
       "      <th>284806</th>\n",
       "      <td>172792.0</td>\n",
       "      <td>-0.533413</td>\n",
       "      <td>-0.189733</td>\n",
       "      <td>0.703337</td>\n",
       "      <td>-0.506271</td>\n",
       "      <td>-0.012546</td>\n",
       "      <td>-0.649617</td>\n",
       "      <td>1.577006</td>\n",
       "      <td>-0.414650</td>\n",
       "      <td>0.486180</td>\n",
       "      <td>...</td>\n",
       "      <td>0.261057</td>\n",
       "      <td>0.643078</td>\n",
       "      <td>0.376777</td>\n",
       "      <td>0.008797</td>\n",
       "      <td>-0.473649</td>\n",
       "      <td>-0.818267</td>\n",
       "      <td>-0.002415</td>\n",
       "      <td>0.013649</td>\n",
       "      <td>217.00</td>\n",
       "      <td>0</td>\n",
       "    </tr>\n",
       "  </tbody>\n",
       "</table>\n",
       "<p>284807 rows × 31 columns</p>\n",
       "</div>"
      ],
      "text/plain": [
       "            Time         V1         V2        V3        V4        V5  \\\n",
       "0            0.0  -1.359807  -0.072781  2.536347  1.378155 -0.338321   \n",
       "1            0.0   1.191857   0.266151  0.166480  0.448154  0.060018   \n",
       "2            1.0  -1.358354  -1.340163  1.773209  0.379780 -0.503198   \n",
       "3            1.0  -0.966272  -0.185226  1.792993 -0.863291 -0.010309   \n",
       "4            2.0  -1.158233   0.877737  1.548718  0.403034 -0.407193   \n",
       "...          ...        ...        ...       ...       ...       ...   \n",
       "284802  172786.0 -11.881118  10.071785 -9.834783 -2.066656 -5.364473   \n",
       "284803  172787.0  -0.732789  -0.055080  2.035030 -0.738589  0.868229   \n",
       "284804  172788.0   1.919565  -0.301254 -3.249640 -0.557828  2.630515   \n",
       "284805  172788.0  -0.240440   0.530483  0.702510  0.689799 -0.377961   \n",
       "284806  172792.0  -0.533413  -0.189733  0.703337 -0.506271 -0.012546   \n",
       "\n",
       "              V6        V7        V8        V9  ...       V21       V22  \\\n",
       "0       0.462388  0.239599  0.098698  0.363787  ... -0.018307  0.277838   \n",
       "1      -0.082361 -0.078803  0.085102 -0.255425  ... -0.225775 -0.638672   \n",
       "2       1.800499  0.791461  0.247676 -1.514654  ...  0.247998  0.771679   \n",
       "3       1.247203  0.237609  0.377436 -1.387024  ... -0.108300  0.005274   \n",
       "4       0.095921  0.592941 -0.270533  0.817739  ... -0.009431  0.798278   \n",
       "...          ...       ...       ...       ...  ...       ...       ...   \n",
       "284802 -2.606837 -4.918215  7.305334  1.914428  ...  0.213454  0.111864   \n",
       "284803  1.058415  0.024330  0.294869  0.584800  ...  0.214205  0.924384   \n",
       "284804  3.031260 -0.296827  0.708417  0.432454  ...  0.232045  0.578229   \n",
       "284805  0.623708 -0.686180  0.679145  0.392087  ...  0.265245  0.800049   \n",
       "284806 -0.649617  1.577006 -0.414650  0.486180  ...  0.261057  0.643078   \n",
       "\n",
       "             V23       V24       V25       V26       V27       V28  Amount  \\\n",
       "0      -0.110474  0.066928  0.128539 -0.189115  0.133558 -0.021053  149.62   \n",
       "1       0.101288 -0.339846  0.167170  0.125895 -0.008983  0.014724    2.69   \n",
       "2       0.909412 -0.689281 -0.327642 -0.139097 -0.055353 -0.059752  378.66   \n",
       "3      -0.190321 -1.175575  0.647376 -0.221929  0.062723  0.061458  123.50   \n",
       "4      -0.137458  0.141267 -0.206010  0.502292  0.219422  0.215153   69.99   \n",
       "...          ...       ...       ...       ...       ...       ...     ...   \n",
       "284802  1.014480 -0.509348  1.436807  0.250034  0.943651  0.823731    0.77   \n",
       "284803  0.012463 -1.016226 -0.606624 -0.395255  0.068472 -0.053527   24.79   \n",
       "284804 -0.037501  0.640134  0.265745 -0.087371  0.004455 -0.026561   67.88   \n",
       "284805 -0.163298  0.123205 -0.569159  0.546668  0.108821  0.104533   10.00   \n",
       "284806  0.376777  0.008797 -0.473649 -0.818267 -0.002415  0.013649  217.00   \n",
       "\n",
       "        Class  \n",
       "0           0  \n",
       "1           0  \n",
       "2           0  \n",
       "3           0  \n",
       "4           0  \n",
       "...       ...  \n",
       "284802      0  \n",
       "284803      0  \n",
       "284804      0  \n",
       "284805      0  \n",
       "284806      0  \n",
       "\n",
       "[284807 rows x 31 columns]"
      ]
     },
     "execution_count": 2,
     "metadata": {},
     "output_type": "execute_result"
    }
   ],
   "source": [
    "df = pd.read_csv('/kaggle/input/creditcardfraud/creditcard.csv', delimiter=',')\n",
    "df"
   ]
  },
  {
   "cell_type": "markdown",
   "id": "2423d470",
   "metadata": {
    "papermill": {
     "duration": 0.00629,
     "end_time": "2023-10-24T18:10:06.734962",
     "exception": false,
     "start_time": "2023-10-24T18:10:06.728672",
     "status": "completed"
    },
    "tags": []
   },
   "source": [
    "Let's check if ther is any Nan values in the data frame. "
   ]
  },
  {
   "cell_type": "code",
   "execution_count": 3,
   "id": "72da8afc",
   "metadata": {
    "execution": {
     "iopub.execute_input": "2023-10-24T18:10:06.750179Z",
     "iopub.status.busy": "2023-10-24T18:10:06.749471Z",
     "iopub.status.idle": "2023-10-24T18:10:06.774911Z",
     "shell.execute_reply": "2023-10-24T18:10:06.773750Z"
    },
    "papermill": {
     "duration": 0.036,
     "end_time": "2023-10-24T18:10:06.777348",
     "exception": false,
     "start_time": "2023-10-24T18:10:06.741348",
     "status": "completed"
    },
    "tags": []
   },
   "outputs": [
    {
     "data": {
      "text/plain": [
       "Time      0\n",
       "V1        0\n",
       "V2        0\n",
       "V3        0\n",
       "V4        0\n",
       "V5        0\n",
       "V6        0\n",
       "V7        0\n",
       "V8        0\n",
       "V9        0\n",
       "V10       0\n",
       "V11       0\n",
       "V12       0\n",
       "V13       0\n",
       "V14       0\n",
       "V15       0\n",
       "V16       0\n",
       "V17       0\n",
       "V18       0\n",
       "V19       0\n",
       "V20       0\n",
       "V21       0\n",
       "V22       0\n",
       "V23       0\n",
       "V24       0\n",
       "V25       0\n",
       "V26       0\n",
       "V27       0\n",
       "V28       0\n",
       "Amount    0\n",
       "Class     0\n",
       "dtype: int64"
      ]
     },
     "execution_count": 3,
     "metadata": {},
     "output_type": "execute_result"
    }
   ],
   "source": [
    "df.isna().sum()"
   ]
  },
  {
   "cell_type": "markdown",
   "id": "8eebe532",
   "metadata": {
    "papermill": {
     "duration": 0.006309,
     "end_time": "2023-10-24T18:10:06.790394",
     "exception": false,
     "start_time": "2023-10-24T18:10:06.784085",
     "status": "completed"
    },
    "tags": []
   },
   "source": [
    "Let's check how many fraudulent transaction is in the database. "
   ]
  },
  {
   "cell_type": "code",
   "execution_count": 4,
   "id": "ab768f2c",
   "metadata": {
    "execution": {
     "iopub.execute_input": "2023-10-24T18:10:06.805702Z",
     "iopub.status.busy": "2023-10-24T18:10:06.805331Z",
     "iopub.status.idle": "2023-10-24T18:10:06.821907Z",
     "shell.execute_reply": "2023-10-24T18:10:06.820845Z"
    },
    "papermill": {
     "duration": 0.027525,
     "end_time": "2023-10-24T18:10:06.824734",
     "exception": false,
     "start_time": "2023-10-24T18:10:06.797209",
     "status": "completed"
    },
    "tags": []
   },
   "outputs": [
    {
     "data": {
      "text/plain": [
       "Class\n",
       "0    284315\n",
       "1       492\n",
       "Name: count, dtype: int64"
      ]
     },
     "execution_count": 4,
     "metadata": {},
     "output_type": "execute_result"
    }
   ],
   "source": [
    "df.Class.value_counts()"
   ]
  },
  {
   "cell_type": "code",
   "execution_count": 5,
   "id": "bce5b4c6",
   "metadata": {
    "execution": {
     "iopub.execute_input": "2023-10-24T18:10:06.840385Z",
     "iopub.status.busy": "2023-10-24T18:10:06.839997Z",
     "iopub.status.idle": "2023-10-24T18:10:06.845890Z",
     "shell.execute_reply": "2023-10-24T18:10:06.844807Z"
    },
    "papermill": {
     "duration": 0.01645,
     "end_time": "2023-10-24T18:10:06.848323",
     "exception": false,
     "start_time": "2023-10-24T18:10:06.831873",
     "status": "completed"
    },
    "tags": []
   },
   "outputs": [
    {
     "name": "stdout",
     "output_type": "stream",
     "text": [
      "The percentage of fradulent transaction is 0.1730.\n"
     ]
    }
   ],
   "source": [
    "print('The percentage of fradulent transaction is '+str(492/284315*100)[:6]+'.')"
   ]
  },
  {
   "cell_type": "markdown",
   "id": "b5202169",
   "metadata": {
    "papermill": {
     "duration": 0.006618,
     "end_time": "2023-10-24T18:10:06.861746",
     "exception": false,
     "start_time": "2023-10-24T18:10:06.855128",
     "status": "completed"
    },
    "tags": []
   },
   "source": [
    "## Train/test split\n",
    "\n",
    "Let's split the data to train/test sets."
   ]
  },
  {
   "cell_type": "code",
   "execution_count": 6,
   "id": "b3764897",
   "metadata": {
    "execution": {
     "iopub.execute_input": "2023-10-24T18:10:06.877039Z",
     "iopub.status.busy": "2023-10-24T18:10:06.876650Z",
     "iopub.status.idle": "2023-10-24T18:10:06.881535Z",
     "shell.execute_reply": "2023-10-24T18:10:06.880698Z"
    },
    "papermill": {
     "duration": 0.014936,
     "end_time": "2023-10-24T18:10:06.883507",
     "exception": false,
     "start_time": "2023-10-24T18:10:06.868571",
     "status": "completed"
    },
    "tags": []
   },
   "outputs": [],
   "source": [
    "y=df.pop('Class')\n",
    "X=df"
   ]
  },
  {
   "cell_type": "code",
   "execution_count": 7,
   "id": "4627bce5",
   "metadata": {
    "execution": {
     "iopub.execute_input": "2023-10-24T18:10:06.899253Z",
     "iopub.status.busy": "2023-10-24T18:10:06.898259Z",
     "iopub.status.idle": "2023-10-24T18:10:06.993363Z",
     "shell.execute_reply": "2023-10-24T18:10:06.992435Z"
    },
    "papermill": {
     "duration": 0.105656,
     "end_time": "2023-10-24T18:10:06.995948",
     "exception": false,
     "start_time": "2023-10-24T18:10:06.890292",
     "status": "completed"
    },
    "tags": []
   },
   "outputs": [],
   "source": [
    "X_train, X_test, Y_train, Y_test=train_test_split(X,y,test_size=0.2,random_state=0)"
   ]
  },
  {
   "cell_type": "markdown",
   "id": "7427328f",
   "metadata": {
    "papermill": {
     "duration": 0.006608,
     "end_time": "2023-10-24T18:10:07.009625",
     "exception": false,
     "start_time": "2023-10-24T18:10:07.003017",
     "status": "completed"
    },
    "tags": []
   },
   "source": [
    "## Classification Models\n",
    "\n",
    "Let's employ KNN, and Random Forest to see which one perfomrs better on this database."
   ]
  },
  {
   "cell_type": "markdown",
   "id": "cbc60edc",
   "metadata": {
    "papermill": {
     "duration": 0.006501,
     "end_time": "2023-10-24T18:10:07.022951",
     "exception": false,
     "start_time": "2023-10-24T18:10:07.016450",
     "status": "completed"
    },
    "tags": []
   },
   "source": [
    "### KNN"
   ]
  },
  {
   "cell_type": "code",
   "execution_count": 8,
   "id": "2d4c8100",
   "metadata": {
    "execution": {
     "iopub.execute_input": "2023-10-24T18:10:07.039043Z",
     "iopub.status.busy": "2023-10-24T18:10:07.037776Z",
     "iopub.status.idle": "2023-10-24T19:57:06.886155Z",
     "shell.execute_reply": "2023-10-24T19:57:06.884906Z"
    },
    "papermill": {
     "duration": 6419.866327,
     "end_time": "2023-10-24T19:57:06.896045",
     "exception": false,
     "start_time": "2023-10-24T18:10:07.029718",
     "status": "completed"
    },
    "tags": []
   },
   "outputs": [
    {
     "name": "stdout",
     "output_type": "stream",
     "text": [
      "tuned hpyerparameters :(best parameters)  {'algorithm': 'auto', 'n_neighbors': 8, 'p': 1}\n",
      "accuracy : 0.12813894705670834\n",
      "accuracy test set: 0.14678899082568805\n"
     ]
    }
   ],
   "source": [
    "parameters = {'n_neighbors': [8,12,16],\n",
    "              'algorithm': ['auto', 'ball_tree', 'kd_tree', 'brute'],\n",
    "              'p': [1,2]}\n",
    "\n",
    "KNN = KNeighborsClassifier()\n",
    "knn_cv=GridSearchCV(KNN,parameters,scoring='f1',cv=4)\n",
    "knn_cv.fit(X_train,Y_train)\n",
    "print(\"tuned hpyerparameters :(best parameters) \",knn_cv.best_params_)\n",
    "print(\"accuracy :\",knn_cv.best_score_)\n",
    "knn_cv.score(X_test,Y_test)\n",
    "print(\"accuracy test set:\",knn_cv.score(X_test,Y_test))"
   ]
  },
  {
   "cell_type": "markdown",
   "id": "e6304808",
   "metadata": {
    "papermill": {
     "duration": 0.006838,
     "end_time": "2023-10-24T19:57:06.910045",
     "exception": false,
     "start_time": "2023-10-24T19:57:06.903207",
     "status": "completed"
    },
    "tags": []
   },
   "source": [
    "tuned hpyerparameters :(best parameters)  {'algorithm': 'auto', 'n_neighbors': 8, 'p': 1}\n",
    "accuracy : 0.99840242269955\n",
    "accuracy test set: 0.9983673326077034\n"
   ]
  },
  {
   "cell_type": "code",
   "execution_count": 9,
   "id": "e29972c9",
   "metadata": {
    "execution": {
     "iopub.execute_input": "2023-10-24T19:57:06.926595Z",
     "iopub.status.busy": "2023-10-24T19:57:06.926209Z",
     "iopub.status.idle": "2023-10-24T20:08:52.973661Z",
     "shell.execute_reply": "2023-10-24T20:08:52.972434Z"
    },
    "papermill": {
     "duration": 706.065604,
     "end_time": "2023-10-24T20:08:52.983185",
     "exception": false,
     "start_time": "2023-10-24T19:57:06.917581",
     "status": "completed"
    },
    "tags": []
   },
   "outputs": [
    {
     "name": "stdout",
     "output_type": "stream",
     "text": [
      "tuned hpyerparameters :(best parameters)  {'max_depth': 7, 'max_features': 7, 'n_estimators': 10}\n",
      "accuracy : 0.8415926717497526\n",
      "accuracy test set: 0.8216216216216216\n"
     ]
    }
   ],
   "source": [
    "parameters= {\"max_depth\": [3,5,7],\n",
    "              \"n_estimators\":[3,5,10],\n",
    "              \"max_features\": [5,6,7,8]}\n",
    "\n",
    "# Creating the classifier\n",
    "RF = RandomForestClassifier()\n",
    "RF_cv=GridSearchCV(RF,parameters,scoring='f1',cv=4)\n",
    "RF_cv.fit(X_train,Y_train)\n",
    "print(\"tuned hpyerparameters :(best parameters) \",RF_cv.best_params_)\n",
    "print(\"accuracy :\",RF_cv.best_score_)\n",
    "RF_cv.score(X_test,Y_test)\n",
    "print(\"accuracy test set:\",RF_cv.score(X_test,Y_test))"
   ]
  }
 ],
 "metadata": {
  "kernelspec": {
   "display_name": "Python 3",
   "language": "python",
   "name": "python3"
  },
  "language_info": {
   "codemirror_mode": {
    "name": "ipython",
    "version": 3
   },
   "file_extension": ".py",
   "mimetype": "text/x-python",
   "name": "python",
   "nbconvert_exporter": "python",
   "pygments_lexer": "ipython3",
   "version": "3.10.12"
  },
  "papermill": {
   "default_parameters": {},
   "duration": 7138.09531,
   "end_time": "2023-10-24T20:08:53.628837",
   "environment_variables": {},
   "exception": null,
   "input_path": "__notebook__.ipynb",
   "output_path": "__notebook__.ipynb",
   "parameters": {},
   "start_time": "2023-10-24T18:09:55.533527",
   "version": "2.4.0"
  }
 },
 "nbformat": 4,
 "nbformat_minor": 5
}
