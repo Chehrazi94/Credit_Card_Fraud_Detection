{
 "cells": [
  {
   "cell_type": "markdown",
   "id": "6fe095b0",
   "metadata": {
    "papermill": {
     "duration": 0.004964,
     "end_time": "2023-10-24T21:53:44.053683",
     "exception": false,
     "start_time": "2023-10-24T21:53:44.048719",
     "status": "completed"
    },
    "tags": []
   },
   "source": [
    "# Credit Card Fraud Detection\n",
    "\n",
    "### <font color='blue'>*Author: Ali Chehrazi*</font>\n",
    "\n",
    "##  Description\n",
    "\n",
    "In this project, Random forect classification model was employed to detect fraudulent transactions. The data employed in this project can be found at the following link:\n",
    "\n",
    "https://www.kaggle.com/datasets/mlg-ulb/creditcardfraud\n",
    "\n",
    "<img src=\"Images\Confusion_Matrix.jpg\" width=400 />\n",
    "\n",
    "### About Dataset\n",
    "\n",
    "This dataset logs credit card transactions by European cardholders in September 2013 over two days. It reveals 492 fraud cases out of 284,807 transactions, highlighting a significant imbalance where frauds make up only 0.172% of total transactions. The dataset mainly contains numerical variables resulting from PCA transformation, and other features like 'Time', 'Amount', and the response variable 'Class' denoting fraud (1) or non-fraud (0). However, due to confidentiality, original features and background data are undisclosed.\n"
   ]
  },
  {
   "cell_type": "markdown",
   "id": "d798ba59",
   "metadata": {
    "papermill": {
     "duration": 0.003988,
     "end_time": "2023-10-24T21:53:44.063700",
     "exception": false,
     "start_time": "2023-10-24T21:53:44.059712",
     "status": "completed"
    },
    "tags": []
   },
   "source": [
    "## Importing Libraries\n",
    "First, let's import the required libraries."
   ]
  },
  {
   "cell_type": "code",
   "execution_count": 1,
   "id": "afc5ce38",
   "metadata": {
    "execution": {
     "iopub.execute_input": "2023-10-24T21:53:44.074018Z",
     "iopub.status.busy": "2023-10-24T21:53:44.073410Z",
     "iopub.status.idle": "2023-10-24T21:53:46.283925Z",
     "shell.execute_reply": "2023-10-24T21:53:46.282741Z"
    },
    "papermill": {
     "duration": 2.218455,
     "end_time": "2023-10-24T21:53:46.286284",
     "exception": false,
     "start_time": "2023-10-24T21:53:44.067829",
     "status": "completed"
    },
    "tags": []
   },
   "outputs": [
    {
     "name": "stdout",
     "output_type": "stream",
     "text": [
      "/kaggle/input/creditcardfraud/creditcard.csv\n"
     ]
    }
   ],
   "source": [
    "import os\n",
    "import numpy as np # linear algebra\n",
    "import pandas as pd # data processing\n",
    "import matplotlib.pyplot as plt # Matplotlib is a plotting library for python\n",
    "import seaborn as sns #Seaborn is a Python data visualization library based on matplotlib.\n",
    "from sklearn.model_selection import train_test_split # Allows us to split our data into training and testing data\n",
    "from sklearn.model_selection import GridSearchCV # Allows us to test parameters of classification algorithms and find the best one\n",
    "from sklearn.linear_model import LogisticRegression # Logistic Regression classification algorithm\n",
    "from sklearn.neighbors import KNeighborsClassifier # K Nearest Neighbors classification algorithm\n",
    "from sklearn.ensemble import RandomForestClassifier # Random Forest classification algorithm\n",
    "from sklearn.metrics import confusion_matrix, ConfusionMatrixDisplay # Confusion Matrix Determination\n",
    "\n",
    "for dirname, _, filenames in os.walk('/kaggle/input'):\n",
    "    for filename in filenames:\n",
    "        print(os.path.join(dirname, filename))"
   ]
  },
  {
   "cell_type": "markdown",
   "id": "1d2a5e7d",
   "metadata": {
    "papermill": {
     "duration": 0.004123,
     "end_time": "2023-10-24T21:53:46.294945",
     "exception": false,
     "start_time": "2023-10-24T21:53:46.290822",
     "status": "completed"
    },
    "tags": []
   },
   "source": [
    "## Data Analysis\n",
    "Let's read the dataset and save it into a data frame."
   ]
  },
  {
   "cell_type": "code",
   "execution_count": 2,
   "id": "c80b463c",
   "metadata": {
    "execution": {
     "iopub.execute_input": "2023-10-24T21:53:46.305071Z",
     "iopub.status.busy": "2023-10-24T21:53:46.304637Z",
     "iopub.status.idle": "2023-10-24T21:53:49.987773Z",
     "shell.execute_reply": "2023-10-24T21:53:49.986676Z"
    },
    "papermill": {
     "duration": 3.690871,
     "end_time": "2023-10-24T21:53:49.990167",
     "exception": false,
     "start_time": "2023-10-24T21:53:46.299296",
     "status": "completed"
    },
    "tags": []
   },
   "outputs": [
    {
     "data": {
      "text/html": [
       "<div>\n",
       "<style scoped>\n",
       "    .dataframe tbody tr th:only-of-type {\n",
       "        vertical-align: middle;\n",
       "    }\n",
       "\n",
       "    .dataframe tbody tr th {\n",
       "        vertical-align: top;\n",
       "    }\n",
       "\n",
       "    .dataframe thead th {\n",
       "        text-align: right;\n",
       "    }\n",
       "</style>\n",
       "<table border=\"1\" class=\"dataframe\">\n",
       "  <thead>\n",
       "    <tr style=\"text-align: right;\">\n",
       "      <th></th>\n",
       "      <th>Time</th>\n",
       "      <th>V1</th>\n",
       "      <th>V2</th>\n",
       "      <th>V3</th>\n",
       "      <th>V4</th>\n",
       "      <th>V5</th>\n",
       "      <th>V6</th>\n",
       "      <th>V7</th>\n",
       "      <th>V8</th>\n",
       "      <th>V9</th>\n",
       "      <th>...</th>\n",
       "      <th>V21</th>\n",
       "      <th>V22</th>\n",
       "      <th>V23</th>\n",
       "      <th>V24</th>\n",
       "      <th>V25</th>\n",
       "      <th>V26</th>\n",
       "      <th>V27</th>\n",
       "      <th>V28</th>\n",
       "      <th>Amount</th>\n",
       "      <th>Class</th>\n",
       "    </tr>\n",
       "  </thead>\n",
       "  <tbody>\n",
       "    <tr>\n",
       "      <th>0</th>\n",
       "      <td>0.0</td>\n",
       "      <td>-1.359807</td>\n",
       "      <td>-0.072781</td>\n",
       "      <td>2.536347</td>\n",
       "      <td>1.378155</td>\n",
       "      <td>-0.338321</td>\n",
       "      <td>0.462388</td>\n",
       "      <td>0.239599</td>\n",
       "      <td>0.098698</td>\n",
       "      <td>0.363787</td>\n",
       "      <td>...</td>\n",
       "      <td>-0.018307</td>\n",
       "      <td>0.277838</td>\n",
       "      <td>-0.110474</td>\n",
       "      <td>0.066928</td>\n",
       "      <td>0.128539</td>\n",
       "      <td>-0.189115</td>\n",
       "      <td>0.133558</td>\n",
       "      <td>-0.021053</td>\n",
       "      <td>149.62</td>\n",
       "      <td>0</td>\n",
       "    </tr>\n",
       "    <tr>\n",
       "      <th>1</th>\n",
       "      <td>0.0</td>\n",
       "      <td>1.191857</td>\n",
       "      <td>0.266151</td>\n",
       "      <td>0.166480</td>\n",
       "      <td>0.448154</td>\n",
       "      <td>0.060018</td>\n",
       "      <td>-0.082361</td>\n",
       "      <td>-0.078803</td>\n",
       "      <td>0.085102</td>\n",
       "      <td>-0.255425</td>\n",
       "      <td>...</td>\n",
       "      <td>-0.225775</td>\n",
       "      <td>-0.638672</td>\n",
       "      <td>0.101288</td>\n",
       "      <td>-0.339846</td>\n",
       "      <td>0.167170</td>\n",
       "      <td>0.125895</td>\n",
       "      <td>-0.008983</td>\n",
       "      <td>0.014724</td>\n",
       "      <td>2.69</td>\n",
       "      <td>0</td>\n",
       "    </tr>\n",
       "    <tr>\n",
       "      <th>2</th>\n",
       "      <td>1.0</td>\n",
       "      <td>-1.358354</td>\n",
       "      <td>-1.340163</td>\n",
       "      <td>1.773209</td>\n",
       "      <td>0.379780</td>\n",
       "      <td>-0.503198</td>\n",
       "      <td>1.800499</td>\n",
       "      <td>0.791461</td>\n",
       "      <td>0.247676</td>\n",
       "      <td>-1.514654</td>\n",
       "      <td>...</td>\n",
       "      <td>0.247998</td>\n",
       "      <td>0.771679</td>\n",
       "      <td>0.909412</td>\n",
       "      <td>-0.689281</td>\n",
       "      <td>-0.327642</td>\n",
       "      <td>-0.139097</td>\n",
       "      <td>-0.055353</td>\n",
       "      <td>-0.059752</td>\n",
       "      <td>378.66</td>\n",
       "      <td>0</td>\n",
       "    </tr>\n",
       "    <tr>\n",
       "      <th>3</th>\n",
       "      <td>1.0</td>\n",
       "      <td>-0.966272</td>\n",
       "      <td>-0.185226</td>\n",
       "      <td>1.792993</td>\n",
       "      <td>-0.863291</td>\n",
       "      <td>-0.010309</td>\n",
       "      <td>1.247203</td>\n",
       "      <td>0.237609</td>\n",
       "      <td>0.377436</td>\n",
       "      <td>-1.387024</td>\n",
       "      <td>...</td>\n",
       "      <td>-0.108300</td>\n",
       "      <td>0.005274</td>\n",
       "      <td>-0.190321</td>\n",
       "      <td>-1.175575</td>\n",
       "      <td>0.647376</td>\n",
       "      <td>-0.221929</td>\n",
       "      <td>0.062723</td>\n",
       "      <td>0.061458</td>\n",
       "      <td>123.50</td>\n",
       "      <td>0</td>\n",
       "    </tr>\n",
       "    <tr>\n",
       "      <th>4</th>\n",
       "      <td>2.0</td>\n",
       "      <td>-1.158233</td>\n",
       "      <td>0.877737</td>\n",
       "      <td>1.548718</td>\n",
       "      <td>0.403034</td>\n",
       "      <td>-0.407193</td>\n",
       "      <td>0.095921</td>\n",
       "      <td>0.592941</td>\n",
       "      <td>-0.270533</td>\n",
       "      <td>0.817739</td>\n",
       "      <td>...</td>\n",
       "      <td>-0.009431</td>\n",
       "      <td>0.798278</td>\n",
       "      <td>-0.137458</td>\n",
       "      <td>0.141267</td>\n",
       "      <td>-0.206010</td>\n",
       "      <td>0.502292</td>\n",
       "      <td>0.219422</td>\n",
       "      <td>0.215153</td>\n",
       "      <td>69.99</td>\n",
       "      <td>0</td>\n",
       "    </tr>\n",
       "    <tr>\n",
       "      <th>...</th>\n",
       "      <td>...</td>\n",
       "      <td>...</td>\n",
       "      <td>...</td>\n",
       "      <td>...</td>\n",
       "      <td>...</td>\n",
       "      <td>...</td>\n",
       "      <td>...</td>\n",
       "      <td>...</td>\n",
       "      <td>...</td>\n",
       "      <td>...</td>\n",
       "      <td>...</td>\n",
       "      <td>...</td>\n",
       "      <td>...</td>\n",
       "      <td>...</td>\n",
       "      <td>...</td>\n",
       "      <td>...</td>\n",
       "      <td>...</td>\n",
       "      <td>...</td>\n",
       "      <td>...</td>\n",
       "      <td>...</td>\n",
       "      <td>...</td>\n",
       "    </tr>\n",
       "    <tr>\n",
       "      <th>284802</th>\n",
       "      <td>172786.0</td>\n",
       "      <td>-11.881118</td>\n",
       "      <td>10.071785</td>\n",
       "      <td>-9.834783</td>\n",
       "      <td>-2.066656</td>\n",
       "      <td>-5.364473</td>\n",
       "      <td>-2.606837</td>\n",
       "      <td>-4.918215</td>\n",
       "      <td>7.305334</td>\n",
       "      <td>1.914428</td>\n",
       "      <td>...</td>\n",
       "      <td>0.213454</td>\n",
       "      <td>0.111864</td>\n",
       "      <td>1.014480</td>\n",
       "      <td>-0.509348</td>\n",
       "      <td>1.436807</td>\n",
       "      <td>0.250034</td>\n",
       "      <td>0.943651</td>\n",
       "      <td>0.823731</td>\n",
       "      <td>0.77</td>\n",
       "      <td>0</td>\n",
       "    </tr>\n",
       "    <tr>\n",
       "      <th>284803</th>\n",
       "      <td>172787.0</td>\n",
       "      <td>-0.732789</td>\n",
       "      <td>-0.055080</td>\n",
       "      <td>2.035030</td>\n",
       "      <td>-0.738589</td>\n",
       "      <td>0.868229</td>\n",
       "      <td>1.058415</td>\n",
       "      <td>0.024330</td>\n",
       "      <td>0.294869</td>\n",
       "      <td>0.584800</td>\n",
       "      <td>...</td>\n",
       "      <td>0.214205</td>\n",
       "      <td>0.924384</td>\n",
       "      <td>0.012463</td>\n",
       "      <td>-1.016226</td>\n",
       "      <td>-0.606624</td>\n",
       "      <td>-0.395255</td>\n",
       "      <td>0.068472</td>\n",
       "      <td>-0.053527</td>\n",
       "      <td>24.79</td>\n",
       "      <td>0</td>\n",
       "    </tr>\n",
       "    <tr>\n",
       "      <th>284804</th>\n",
       "      <td>172788.0</td>\n",
       "      <td>1.919565</td>\n",
       "      <td>-0.301254</td>\n",
       "      <td>-3.249640</td>\n",
       "      <td>-0.557828</td>\n",
       "      <td>2.630515</td>\n",
       "      <td>3.031260</td>\n",
       "      <td>-0.296827</td>\n",
       "      <td>0.708417</td>\n",
       "      <td>0.432454</td>\n",
       "      <td>...</td>\n",
       "      <td>0.232045</td>\n",
       "      <td>0.578229</td>\n",
       "      <td>-0.037501</td>\n",
       "      <td>0.640134</td>\n",
       "      <td>0.265745</td>\n",
       "      <td>-0.087371</td>\n",
       "      <td>0.004455</td>\n",
       "      <td>-0.026561</td>\n",
       "      <td>67.88</td>\n",
       "      <td>0</td>\n",
       "    </tr>\n",
       "    <tr>\n",
       "      <th>284805</th>\n",
       "      <td>172788.0</td>\n",
       "      <td>-0.240440</td>\n",
       "      <td>0.530483</td>\n",
       "      <td>0.702510</td>\n",
       "      <td>0.689799</td>\n",
       "      <td>-0.377961</td>\n",
       "      <td>0.623708</td>\n",
       "      <td>-0.686180</td>\n",
       "      <td>0.679145</td>\n",
       "      <td>0.392087</td>\n",
       "      <td>...</td>\n",
       "      <td>0.265245</td>\n",
       "      <td>0.800049</td>\n",
       "      <td>-0.163298</td>\n",
       "      <td>0.123205</td>\n",
       "      <td>-0.569159</td>\n",
       "      <td>0.546668</td>\n",
       "      <td>0.108821</td>\n",
       "      <td>0.104533</td>\n",
       "      <td>10.00</td>\n",
       "      <td>0</td>\n",
       "    </tr>\n",
       "    <tr>\n",
       "      <th>284806</th>\n",
       "      <td>172792.0</td>\n",
       "      <td>-0.533413</td>\n",
       "      <td>-0.189733</td>\n",
       "      <td>0.703337</td>\n",
       "      <td>-0.506271</td>\n",
       "      <td>-0.012546</td>\n",
       "      <td>-0.649617</td>\n",
       "      <td>1.577006</td>\n",
       "      <td>-0.414650</td>\n",
       "      <td>0.486180</td>\n",
       "      <td>...</td>\n",
       "      <td>0.261057</td>\n",
       "      <td>0.643078</td>\n",
       "      <td>0.376777</td>\n",
       "      <td>0.008797</td>\n",
       "      <td>-0.473649</td>\n",
       "      <td>-0.818267</td>\n",
       "      <td>-0.002415</td>\n",
       "      <td>0.013649</td>\n",
       "      <td>217.00</td>\n",
       "      <td>0</td>\n",
       "    </tr>\n",
       "  </tbody>\n",
       "</table>\n",
       "<p>284807 rows × 31 columns</p>\n",
       "</div>"
      ],
      "text/plain": [
       "            Time         V1         V2        V3        V4        V5  \\\n",
       "0            0.0  -1.359807  -0.072781  2.536347  1.378155 -0.338321   \n",
       "1            0.0   1.191857   0.266151  0.166480  0.448154  0.060018   \n",
       "2            1.0  -1.358354  -1.340163  1.773209  0.379780 -0.503198   \n",
       "3            1.0  -0.966272  -0.185226  1.792993 -0.863291 -0.010309   \n",
       "4            2.0  -1.158233   0.877737  1.548718  0.403034 -0.407193   \n",
       "...          ...        ...        ...       ...       ...       ...   \n",
       "284802  172786.0 -11.881118  10.071785 -9.834783 -2.066656 -5.364473   \n",
       "284803  172787.0  -0.732789  -0.055080  2.035030 -0.738589  0.868229   \n",
       "284804  172788.0   1.919565  -0.301254 -3.249640 -0.557828  2.630515   \n",
       "284805  172788.0  -0.240440   0.530483  0.702510  0.689799 -0.377961   \n",
       "284806  172792.0  -0.533413  -0.189733  0.703337 -0.506271 -0.012546   \n",
       "\n",
       "              V6        V7        V8        V9  ...       V21       V22  \\\n",
       "0       0.462388  0.239599  0.098698  0.363787  ... -0.018307  0.277838   \n",
       "1      -0.082361 -0.078803  0.085102 -0.255425  ... -0.225775 -0.638672   \n",
       "2       1.800499  0.791461  0.247676 -1.514654  ...  0.247998  0.771679   \n",
       "3       1.247203  0.237609  0.377436 -1.387024  ... -0.108300  0.005274   \n",
       "4       0.095921  0.592941 -0.270533  0.817739  ... -0.009431  0.798278   \n",
       "...          ...       ...       ...       ...  ...       ...       ...   \n",
       "284802 -2.606837 -4.918215  7.305334  1.914428  ...  0.213454  0.111864   \n",
       "284803  1.058415  0.024330  0.294869  0.584800  ...  0.214205  0.924384   \n",
       "284804  3.031260 -0.296827  0.708417  0.432454  ...  0.232045  0.578229   \n",
       "284805  0.623708 -0.686180  0.679145  0.392087  ...  0.265245  0.800049   \n",
       "284806 -0.649617  1.577006 -0.414650  0.486180  ...  0.261057  0.643078   \n",
       "\n",
       "             V23       V24       V25       V26       V27       V28  Amount  \\\n",
       "0      -0.110474  0.066928  0.128539 -0.189115  0.133558 -0.021053  149.62   \n",
       "1       0.101288 -0.339846  0.167170  0.125895 -0.008983  0.014724    2.69   \n",
       "2       0.909412 -0.689281 -0.327642 -0.139097 -0.055353 -0.059752  378.66   \n",
       "3      -0.190321 -1.175575  0.647376 -0.221929  0.062723  0.061458  123.50   \n",
       "4      -0.137458  0.141267 -0.206010  0.502292  0.219422  0.215153   69.99   \n",
       "...          ...       ...       ...       ...       ...       ...     ...   \n",
       "284802  1.014480 -0.509348  1.436807  0.250034  0.943651  0.823731    0.77   \n",
       "284803  0.012463 -1.016226 -0.606624 -0.395255  0.068472 -0.053527   24.79   \n",
       "284804 -0.037501  0.640134  0.265745 -0.087371  0.004455 -0.026561   67.88   \n",
       "284805 -0.163298  0.123205 -0.569159  0.546668  0.108821  0.104533   10.00   \n",
       "284806  0.376777  0.008797 -0.473649 -0.818267 -0.002415  0.013649  217.00   \n",
       "\n",
       "        Class  \n",
       "0           0  \n",
       "1           0  \n",
       "2           0  \n",
       "3           0  \n",
       "4           0  \n",
       "...       ...  \n",
       "284802      0  \n",
       "284803      0  \n",
       "284804      0  \n",
       "284805      0  \n",
       "284806      0  \n",
       "\n",
       "[284807 rows x 31 columns]"
      ]
     },
     "execution_count": 2,
     "metadata": {},
     "output_type": "execute_result"
    }
   ],
   "source": [
    "df = pd.read_csv('/kaggle/input/creditcardfraud/creditcard.csv', delimiter=',')\n",
    "df"
   ]
  },
  {
   "cell_type": "markdown",
   "id": "16a7823a",
   "metadata": {
    "papermill": {
     "duration": 0.004841,
     "end_time": "2023-10-24T21:53:50.000340",
     "exception": false,
     "start_time": "2023-10-24T21:53:49.995499",
     "status": "completed"
    },
    "tags": []
   },
   "source": [
    "### NaN values\n",
    "Let's check if there are any NaN values in the data frame. "
   ]
  },
  {
   "cell_type": "code",
   "execution_count": 3,
   "id": "0f38a0ae",
   "metadata": {
    "execution": {
     "iopub.execute_input": "2023-10-24T21:53:50.011957Z",
     "iopub.status.busy": "2023-10-24T21:53:50.011546Z",
     "iopub.status.idle": "2023-10-24T21:53:50.033407Z",
     "shell.execute_reply": "2023-10-24T21:53:50.032447Z"
    },
    "papermill": {
     "duration": 0.030339,
     "end_time": "2023-10-24T21:53:50.035602",
     "exception": false,
     "start_time": "2023-10-24T21:53:50.005263",
     "status": "completed"
    },
    "tags": []
   },
   "outputs": [
    {
     "data": {
      "text/plain": [
       "Time      0\n",
       "V1        0\n",
       "V2        0\n",
       "V3        0\n",
       "V4        0\n",
       "V5        0\n",
       "V6        0\n",
       "V7        0\n",
       "V8        0\n",
       "V9        0\n",
       "V10       0\n",
       "V11       0\n",
       "V12       0\n",
       "V13       0\n",
       "V14       0\n",
       "V15       0\n",
       "V16       0\n",
       "V17       0\n",
       "V18       0\n",
       "V19       0\n",
       "V20       0\n",
       "V21       0\n",
       "V22       0\n",
       "V23       0\n",
       "V24       0\n",
       "V25       0\n",
       "V26       0\n",
       "V27       0\n",
       "V28       0\n",
       "Amount    0\n",
       "Class     0\n",
       "dtype: int64"
      ]
     },
     "execution_count": 3,
     "metadata": {},
     "output_type": "execute_result"
    }
   ],
   "source": [
    "df.isna().sum()"
   ]
  },
  {
   "cell_type": "markdown",
   "id": "a4392de1",
   "metadata": {
    "papermill": {
     "duration": 0.004905,
     "end_time": "2023-10-24T21:53:50.045616",
     "exception": false,
     "start_time": "2023-10-24T21:53:50.040711",
     "status": "completed"
    },
    "tags": []
   },
   "source": [
    "### Data types"
   ]
  },
  {
   "cell_type": "code",
   "execution_count": 4,
   "id": "134e3ce4",
   "metadata": {
    "execution": {
     "iopub.execute_input": "2023-10-24T21:53:50.057343Z",
     "iopub.status.busy": "2023-10-24T21:53:50.056595Z",
     "iopub.status.idle": "2023-10-24T21:53:50.066481Z",
     "shell.execute_reply": "2023-10-24T21:53:50.065445Z"
    },
    "papermill": {
     "duration": 0.017941,
     "end_time": "2023-10-24T21:53:50.068494",
     "exception": false,
     "start_time": "2023-10-24T21:53:50.050553",
     "status": "completed"
    },
    "tags": []
   },
   "outputs": [
    {
     "data": {
      "text/plain": [
       "Time      float64\n",
       "V1        float64\n",
       "V2        float64\n",
       "V3        float64\n",
       "V4        float64\n",
       "V5        float64\n",
       "V6        float64\n",
       "V7        float64\n",
       "V8        float64\n",
       "V9        float64\n",
       "V10       float64\n",
       "V11       float64\n",
       "V12       float64\n",
       "V13       float64\n",
       "V14       float64\n",
       "V15       float64\n",
       "V16       float64\n",
       "V17       float64\n",
       "V18       float64\n",
       "V19       float64\n",
       "V20       float64\n",
       "V21       float64\n",
       "V22       float64\n",
       "V23       float64\n",
       "V24       float64\n",
       "V25       float64\n",
       "V26       float64\n",
       "V27       float64\n",
       "V28       float64\n",
       "Amount    float64\n",
       "Class       int64\n",
       "dtype: object"
      ]
     },
     "execution_count": 4,
     "metadata": {},
     "output_type": "execute_result"
    }
   ],
   "source": [
    "df.dtypes"
   ]
  },
  {
   "cell_type": "markdown",
   "id": "9e2a92f5",
   "metadata": {
    "papermill": {
     "duration": 0.004907,
     "end_time": "2023-10-24T21:53:50.078719",
     "exception": false,
     "start_time": "2023-10-24T21:53:50.073812",
     "status": "completed"
    },
    "tags": []
   },
   "source": [
    "### Ratio of fraudulent transactions.\n",
    "Let's check how many fraudulent transactions are in the database. "
   ]
  },
  {
   "cell_type": "code",
   "execution_count": 5,
   "id": "33fd201e",
   "metadata": {
    "execution": {
     "iopub.execute_input": "2023-10-24T21:53:50.090426Z",
     "iopub.status.busy": "2023-10-24T21:53:50.090052Z",
     "iopub.status.idle": "2023-10-24T21:53:50.319127Z",
     "shell.execute_reply": "2023-10-24T21:53:50.318070Z"
    },
    "papermill": {
     "duration": 0.237593,
     "end_time": "2023-10-24T21:53:50.321322",
     "exception": false,
     "start_time": "2023-10-24T21:53:50.083729",
     "status": "completed"
    },
    "tags": []
   },
   "outputs": [
    {
     "name": "stdout",
     "output_type": "stream",
     "text": [
      "Class\n",
      "0    284315\n",
      "1       492\n",
      "Name: count, dtype: int64 \n",
      "\n"
     ]
    },
    {
     "data": {
      "image/png": "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",
      "text/plain": [
       "<Figure size 640x480 with 1 Axes>"
      ]
     },
     "metadata": {},
     "output_type": "display_data"
    }
   ],
   "source": [
    "values=df.Class.value_counts()\n",
    "print(values,'\\n')\n",
    "plt.ylabel(\"Frequency\")\n",
    "values.plot(kind='bar')\n",
    "plt.show()"
   ]
  },
  {
   "cell_type": "code",
   "execution_count": 6,
   "id": "6e7f9279",
   "metadata": {
    "execution": {
     "iopub.execute_input": "2023-10-24T21:53:50.335655Z",
     "iopub.status.busy": "2023-10-24T21:53:50.335061Z",
     "iopub.status.idle": "2023-10-24T21:53:50.342336Z",
     "shell.execute_reply": "2023-10-24T21:53:50.341125Z"
    },
    "papermill": {
     "duration": 0.017513,
     "end_time": "2023-10-24T21:53:50.344632",
     "exception": false,
     "start_time": "2023-10-24T21:53:50.327119",
     "status": "completed"
    },
    "tags": []
   },
   "outputs": [
    {
     "name": "stdout",
     "output_type": "stream",
     "text": [
      "The percentage of fradulent transaction is 0.1727%.\n"
     ]
    }
   ],
   "source": [
    "print('The percentage of fradulent transaction is '+str(values[1]/(sum(values))*100)[:6]+'%.')"
   ]
  },
  {
   "cell_type": "markdown",
   "id": "329444a4",
   "metadata": {
    "papermill": {
     "duration": 0.005342,
     "end_time": "2023-10-24T21:53:50.355681",
     "exception": false,
     "start_time": "2023-10-24T21:53:50.350339",
     "status": "completed"
    },
    "tags": []
   },
   "source": [
    "#### As can be seen above, the percentage of fradualent transactions is pretty small."
   ]
  },
  {
   "cell_type": "markdown",
   "id": "84285483",
   "metadata": {
    "papermill": {
     "duration": 0.005556,
     "end_time": "2023-10-24T21:53:50.366694",
     "exception": false,
     "start_time": "2023-10-24T21:53:50.361138",
     "status": "completed"
    },
    "tags": []
   },
   "source": [
    "## Train/test split\n",
    "\n",
    "Let's split the data to train/test sets."
   ]
  },
  {
   "cell_type": "code",
   "execution_count": 7,
   "id": "4826266f",
   "metadata": {
    "execution": {
     "iopub.execute_input": "2023-10-24T21:53:50.379463Z",
     "iopub.status.busy": "2023-10-24T21:53:50.379106Z",
     "iopub.status.idle": "2023-10-24T21:53:50.384538Z",
     "shell.execute_reply": "2023-10-24T21:53:50.383429Z"
    },
    "papermill": {
     "duration": 0.014468,
     "end_time": "2023-10-24T21:53:50.386607",
     "exception": false,
     "start_time": "2023-10-24T21:53:50.372139",
     "status": "completed"
    },
    "tags": []
   },
   "outputs": [],
   "source": [
    "y=df.pop('Class')\n",
    "X=df"
   ]
  },
  {
   "cell_type": "code",
   "execution_count": 8,
   "id": "b1c528be",
   "metadata": {
    "execution": {
     "iopub.execute_input": "2023-10-24T21:53:50.399346Z",
     "iopub.status.busy": "2023-10-24T21:53:50.399030Z",
     "iopub.status.idle": "2023-10-24T21:53:50.486831Z",
     "shell.execute_reply": "2023-10-24T21:53:50.485670Z"
    },
    "papermill": {
     "duration": 0.096665,
     "end_time": "2023-10-24T21:53:50.489135",
     "exception": false,
     "start_time": "2023-10-24T21:53:50.392470",
     "status": "completed"
    },
    "tags": []
   },
   "outputs": [],
   "source": [
    "X_train, X_test, Y_train, Y_test=train_test_split(X,y,test_size=0.2,random_state=0)"
   ]
  },
  {
   "cell_type": "markdown",
   "id": "128bc1a2",
   "metadata": {
    "papermill": {
     "duration": 0.005428,
     "end_time": "2023-10-24T21:53:50.500410",
     "exception": false,
     "start_time": "2023-10-24T21:53:50.494982",
     "status": "completed"
    },
    "tags": []
   },
   "source": [
    "## Random Forest Classification\n",
    "\n",
    "Let's employ Random Forest to see which one performs better on this database. Given that the dataset is not balanced and only a small portion of the data are Class 1 (or fraudulent). Therefore, the f1 score is a better scoring parameter in comparison with correctness. A range of parameters were employed for hyperparameter tuning. "
   ]
  },
  {
   "cell_type": "code",
   "execution_count": 9,
   "id": "d6440867",
   "metadata": {
    "execution": {
     "iopub.execute_input": "2023-10-24T21:53:50.512720Z",
     "iopub.status.busy": "2023-10-24T21:53:50.512342Z",
     "iopub.status.idle": "2023-10-24T22:04:18.500675Z",
     "shell.execute_reply": "2023-10-24T22:04:18.499534Z"
    },
    "papermill": {
     "duration": 628.001874,
     "end_time": "2023-10-24T22:04:18.507726",
     "exception": false,
     "start_time": "2023-10-24T21:53:50.505852",
     "status": "completed"
    },
    "tags": []
   },
   "outputs": [
    {
     "name": "stdout",
     "output_type": "stream",
     "text": [
      "tuned hpyerparameters :(best parameters)  {'max_depth': 7, 'max_features': 8, 'n_estimators': 5}\n",
      "accuracy : 0.8367652412393191\n",
      "accuracy test set: 0.8297872340425532\n"
     ]
    }
   ],
   "source": [
    "parameters= {\"max_depth\": [3,5,7],\n",
    "              \"n_estimators\":[3,5,10],\n",
    "              \"max_features\": [5,6,7,8]}\n",
    "# Creating the classifier\n",
    "RF = RandomForestClassifier()\n",
    "RF_cv=GridSearchCV(RF,parameters,scoring='f1',cv=4)\n",
    "RF_cv.fit(X_train,Y_train)\n",
    "print(\"tuned hpyerparameters :(best parameters) \",RF_cv.best_params_)\n",
    "print(\"accuracy :\",RF_cv.best_score_)\n",
    "RF_cv.score(X_test,Y_test)\n",
    "print(\"accuracy test set:\",RF_cv.score(X_test,Y_test))"
   ]
  },
  {
   "cell_type": "markdown",
   "id": "0aee91fa",
   "metadata": {
    "papermill": {
     "duration": 0.005464,
     "end_time": "2023-10-24T22:04:18.518867",
     "exception": false,
     "start_time": "2023-10-24T22:04:18.513403",
     "status": "completed"
    },
    "tags": []
   },
   "source": [
    "### Confusion Matrix\n",
    "Let's take a look at the confusion matrix."
   ]
  },
  {
   "cell_type": "code",
   "execution_count": 10,
   "id": "ec25cdac",
   "metadata": {
    "execution": {
     "iopub.execute_input": "2023-10-24T22:04:18.533924Z",
     "iopub.status.busy": "2023-10-24T22:04:18.532882Z",
     "iopub.status.idle": "2023-10-24T22:04:18.785168Z",
     "shell.execute_reply": "2023-10-24T22:04:18.784187Z"
    },
    "papermill": {
     "duration": 0.262252,
     "end_time": "2023-10-24T22:04:18.787347",
     "exception": false,
     "start_time": "2023-10-24T22:04:18.525095",
     "status": "completed"
    },
    "tags": []
   },
   "outputs": [
    {
     "name": "stdout",
     "output_type": "stream",
     "text": [
      "[[56852     9]\n",
      " [   23    78]] \n",
      "\n"
     ]
    },
    {
     "data": {
      "image/png": "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",
      "text/plain": [
       "<Figure size 640x480 with 2 Axes>"
      ]
     },
     "metadata": {},
     "output_type": "display_data"
    }
   ],
   "source": [
    "Y_pred = RF_cv.predict(X_test)\n",
    "cm=confusion_matrix(Y_test, Y_pred, labels=RF_cv.classes_)\n",
    "print(cm,'\\n')\n",
    "disp = ConfusionMatrixDisplay(confusion_matrix=cm,display_labels=RF_cv.classes_)\n",
    "disp.plot()\n",
    "plt.show()"
   ]
  },
  {
   "cell_type": "markdown",
   "id": "c2283804",
   "metadata": {
    "papermill": {
     "duration": 0.005967,
     "end_time": "2023-10-24T22:04:18.799766",
     "exception": false,
     "start_time": "2023-10-24T22:04:18.793799",
     "status": "completed"
    },
    "tags": []
   },
   "source": [
    "## Summary\n",
    "\n",
    "The project began by importing the required libraries, proceeded to read and store the credit card transaction dataset. Data analysis involved recognizing a substantial class imbalance issue, with only 0.172% of transactions flagged as fraudulent. To address this challenge, a Random Forest classification model was employed, with a focus on the f1 score as the primary evaluation metric due to the dataset's imbalance. Hyperparameter tuning was carried out to enhance model performance. The project reported an accuracy of 0.836 for the training set and 0.845 for the test set and concluded by examining the confusion matrix for a comprehensive assessment of the model's performance in identifying fraudulent transactions.\n"
   ]
  }
 ],
 "metadata": {
  "kernelspec": {
   "display_name": "Python 3",
   "language": "python",
   "name": "python3"
  },
  "language_info": {
   "codemirror_mode": {
    "name": "ipython",
    "version": 3
   },
   "file_extension": ".py",
   "mimetype": "text/x-python",
   "name": "python",
   "nbconvert_exporter": "python",
   "pygments_lexer": "ipython3",
   "version": "3.10.12"
  },
  "papermill": {
   "default_parameters": {},
   "duration": 638.326753,
   "end_time": "2023-10-24T22:04:19.326813",
   "environment_variables": {},
   "exception": null,
   "input_path": "__notebook__.ipynb",
   "output_path": "__notebook__.ipynb",
   "parameters": {},
   "start_time": "2023-10-24T21:53:41.000060",
   "version": "2.4.0"
  }
 },
 "nbformat": 4,
 "nbformat_minor": 5
}
